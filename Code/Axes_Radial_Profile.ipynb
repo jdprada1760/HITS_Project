{
 "cells": [
  {
   "cell_type": "code",
   "execution_count": 19,
   "metadata": {
    "collapsed": true
   },
   "outputs": [],
   "source": [
    "import matplotlib\n",
    "matplotlib.use('Agg')\n",
    "import sys\n",
    "import gc\n",
    "import numpy as np\n",
    "import matplotlib.pyplot as plt\n",
    "from matplotlib.backends.backend_pdf import PdfPages\n",
    "from matplotlib.ticker import FormatStrFormatter"
   ]
  },
  {
   "cell_type": "markdown",
   "metadata": {},
   "source": [
    "# Plots"
   ]
  },
  {
   "cell_type": "code",
   "execution_count": 33,
   "metadata": {
    "collapsed": false
   },
   "outputs": [],
   "source": [
    "# Se define el nivel al cual se obtendran las graficas\n",
    "lvl = 'level3'\n",
    "#lvl = 'level4'\n",
    "\n",
    "# Los niveles tienen un conjunto distinto de halos\n",
    "halonums = None\n",
    "if lvl == 'level3':\n",
    "    halonums = [6,16,21,23,24,27]\n",
    "if lvl == 'level4':\n",
    "    halonums = range(1,31)\n",
    "\n",
    "\n",
    "# Graficas exportadas a pdf\n",
    "with PdfPages('../Plots/DM_VS_MHD_'+lvl+'.pdf') as pdf:\n",
    "    for i in halonums:\n",
    "        # Obtiene el nombre de la carpeta para el halo especifico\n",
    "        halo = 'halo_'+str(i)\n",
    "\n",
    "        # Consulta los semiejes de DM y MHD\n",
    "        arrDM = np.loadtxt(\"../Plots/\"+lvl+\"_DM/\"+halo+\"/\"+\"abc_\"+lvl+\"_DM_\"+halo+\".txt\", delimiter = ',')\n",
    "        arrMHD = np.loadtxt(\"../Plots/\"+lvl+\"_MHD/\"+halo+\"/\"+\"abc_\"+lvl+\"_MHD_\"+halo+\".txt\", delimiter = ',')\n",
    "\n",
    "        # Obtiene los semiejes (planos y sin reescalar)\n",
    "        aDM,bDM,cDM = arrDM[:-1].T\n",
    "        aMHD,bMHD,cMHD = arrMHD[:-1].T\n",
    "\n",
    "        # Obtiene las fracciones de los semiejes\n",
    "        yvalsDM = np.array([bDM/aDM,cDM/aDM,(1-(bDM/aDM)**2)/(1-(cDM/aDM)**2)])  \n",
    "        xvalsDM = (aDM*bDM*cDM)**(1./3.)\n",
    "        yvalsMHD = np.array([bMHD/aMHD,cMHD/aMHD,(1-(bMHD/aMHD)**2)/(1-(cMHD/aMHD)**2)])\n",
    "        xvalsMHD = (aMHD*bMHD*cMHD)**(1./3.)\n",
    "\n",
    "        # Label de los ejes\n",
    "        ylabel = ['b/a','c/a','T']\n",
    "\n",
    "        # Define el radio virial \n",
    "        rvirDM = arrDM[-1][0]\n",
    "        rvirMHD = arrMHD[-1][0]\n",
    "\n",
    "        # La figura, cambiar tamano\n",
    "        fig, axs = plt.subplots(figsize=(10,7),nrows=len(yvalsDM))\n",
    "        for ax,yvalDM,yvalMHD,ylab in zip(axs,yvalsDM,yvalsMHD,ylabel):\n",
    "            ax.plot(xvalsDM,yvalDM, c = 'darkblue',linestyle = '--', label = \"DM\")\n",
    "            ax.plot(xvalsMHD,yvalMHD, c = 'darkred', label = \"MHD\")\n",
    "            ax.plot([rvirDM,rvirDM],[0,1],c = 'darkblue',linestyle = '--')\n",
    "            ax.plot([rvirMHD,rvirMHD],[0,1], c = 'darkred')\n",
    "            ax.set_xscale('log')\n",
    "            # Plotting ratios\n",
    "            ax.set_ylim(0,1)\n",
    "            # Valid for all Milkyway-like galaxies\n",
    "            ax.set_xlim(0.1,rvirDM+30)\n",
    "            ax.xaxis.set_major_formatter(FormatStrFormatter('%.1f'))\n",
    "            ax.set_ylabel(ylab)\n",
    "        axs[-1].set_xlabel(\"log(R(kpc/h))\")\n",
    "        pdf.savefig(fig)\n",
    "        plt.close()"
   ]
  },
  {
   "cell_type": "code",
   "execution_count": null,
   "metadata": {
    "collapsed": true
   },
   "outputs": [],
   "source": []
  },
  {
   "cell_type": "code",
   "execution_count": null,
   "metadata": {
    "collapsed": true
   },
   "outputs": [],
   "source": []
  }
 ],
 "metadata": {
  "kernelspec": {
   "display_name": "Python 3",
   "language": "python",
   "name": "python3"
  },
  "language_info": {
   "codemirror_mode": {
    "name": "ipython",
    "version": 3
   },
   "file_extension": ".py",
   "mimetype": "text/x-python",
   "name": "python",
   "nbconvert_exporter": "python",
   "pygments_lexer": "ipython3",
   "version": "3.5.2"
  }
 },
 "nbformat": 4,
 "nbformat_minor": 2
}
